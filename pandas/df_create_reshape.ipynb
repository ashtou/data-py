{
 "cells": [
  {
   "cell_type": "markdown",
   "metadata": {},
   "source": [
    "# Create DataFrame\n",
    "### Create:\n",
    "- `pd.DataFrame()` \n",
    "### Create MultiIndex:\n",
    "- `pd.MultiIndex` `.from_tuples()`, `.from_arrays()`, ...\n",
    "### form Flat to MultiIndex:\n",
    "- `df.set_index()`\n",
    "### from MultiIndex to Flat:\n",
    "- `df.index.to_flat_index()`\n",
    "### Reset Index or a level of it:\n",
    "- `df.reset_index()`\n"
   ]
  },
  {
   "cell_type": "code",
   "execution_count": 1,
   "metadata": {},
   "outputs": [
    {
     "output_type": "stream",
     "name": "stdout",
     "text": "\n#####\ndf0: create using column values\nuse `pd.DataFrame({})`\n"
    },
    {
     "output_type": "display_data",
     "data": {
      "text/plain": "   col1  col2  col3\n1     1     4     7\n2     2     5     8\n3     3     6     9",
      "text/html": "<div>\n<style scoped>\n    .dataframe tbody tr th:only-of-type {\n        vertical-align: middle;\n    }\n\n    .dataframe tbody tr th {\n        vertical-align: top;\n    }\n\n    .dataframe thead th {\n        text-align: right;\n    }\n</style>\n<table border=\"1\" class=\"dataframe\">\n  <thead>\n    <tr style=\"text-align: right;\">\n      <th></th>\n      <th>col1</th>\n      <th>col2</th>\n      <th>col3</th>\n    </tr>\n  </thead>\n  <tbody>\n    <tr>\n      <th>1</th>\n      <td>1</td>\n      <td>4</td>\n      <td>7</td>\n    </tr>\n    <tr>\n      <th>2</th>\n      <td>2</td>\n      <td>5</td>\n      <td>8</td>\n    </tr>\n    <tr>\n      <th>3</th>\n      <td>3</td>\n      <td>6</td>\n      <td>9</td>\n    </tr>\n  </tbody>\n</table>\n</div>"
     },
     "metadata": {}
    },
    {
     "output_type": "stream",
     "name": "stdout",
     "text": "\n#####\ndf1: create using row values\nuse `pd.DataFrame([])`\n"
    },
    {
     "output_type": "display_data",
     "data": {
      "text/plain": "   col1  col12  col3\n1     1      2     3\n2     4      5     6\n3     7      8     9",
      "text/html": "<div>\n<style scoped>\n    .dataframe tbody tr th:only-of-type {\n        vertical-align: middle;\n    }\n\n    .dataframe tbody tr th {\n        vertical-align: top;\n    }\n\n    .dataframe thead th {\n        text-align: right;\n    }\n</style>\n<table border=\"1\" class=\"dataframe\">\n  <thead>\n    <tr style=\"text-align: right;\">\n      <th></th>\n      <th>col1</th>\n      <th>col12</th>\n      <th>col3</th>\n    </tr>\n  </thead>\n  <tbody>\n    <tr>\n      <th>1</th>\n      <td>1</td>\n      <td>2</td>\n      <td>3</td>\n    </tr>\n    <tr>\n      <th>2</th>\n      <td>4</td>\n      <td>5</td>\n      <td>6</td>\n    </tr>\n    <tr>\n      <th>3</th>\n      <td>7</td>\n      <td>8</td>\n      <td>9</td>\n    </tr>\n  </tbody>\n</table>\n</div>"
     },
     "metadata": {}
    },
    {
     "output_type": "stream",
     "name": "stdout",
     "text": "\n#####\ndf2: create a multi-index dataframe,\nuse `pd.MultiIndex()`\n"
    },
    {
     "output_type": "display_data",
     "data": {
      "text/plain": "             col1  col2  col3\nfruit color                  \napple red       1     4     7\n      green     2     5     8\nlime  green     3     6     9",
      "text/html": "<div>\n<style scoped>\n    .dataframe tbody tr th:only-of-type {\n        vertical-align: middle;\n    }\n\n    .dataframe tbody tr th {\n        vertical-align: top;\n    }\n\n    .dataframe thead th {\n        text-align: right;\n    }\n</style>\n<table border=\"1\" class=\"dataframe\">\n  <thead>\n    <tr style=\"text-align: right;\">\n      <th></th>\n      <th></th>\n      <th>col1</th>\n      <th>col2</th>\n      <th>col3</th>\n    </tr>\n    <tr>\n      <th>fruit</th>\n      <th>color</th>\n      <th></th>\n      <th></th>\n      <th></th>\n    </tr>\n  </thead>\n  <tbody>\n    <tr>\n      <th rowspan=\"2\" valign=\"top\">apple</th>\n      <th>red</th>\n      <td>1</td>\n      <td>4</td>\n      <td>7</td>\n    </tr>\n    <tr>\n      <th>green</th>\n      <td>2</td>\n      <td>5</td>\n      <td>8</td>\n    </tr>\n    <tr>\n      <th>lime</th>\n      <th>green</th>\n      <td>3</td>\n      <td>6</td>\n      <td>9</td>\n    </tr>\n  </tbody>\n</table>\n</div>"
     },
     "metadata": {}
    },
    {
     "output_type": "stream",
     "name": "stdout",
     "text": "df2.index:  MultiIndex([('apple',   'red'),\n            ('apple', 'green'),\n            ( 'lime', 'green')],\n           names=['fruit', 'color'])\n\n#####\ndf0: change a flat to multi-index\nuse `df0.set_index()`\n"
    },
    {
     "output_type": "display_data",
     "data": {
      "text/plain": "             col1  col2  col3\nfruit color                  \napple red       1     4     7\n      green     2     5     8\nlime  green     3     6     9",
      "text/html": "<div>\n<style scoped>\n    .dataframe tbody tr th:only-of-type {\n        vertical-align: middle;\n    }\n\n    .dataframe tbody tr th {\n        vertical-align: top;\n    }\n\n    .dataframe thead th {\n        text-align: right;\n    }\n</style>\n<table border=\"1\" class=\"dataframe\">\n  <thead>\n    <tr style=\"text-align: right;\">\n      <th></th>\n      <th></th>\n      <th>col1</th>\n      <th>col2</th>\n      <th>col3</th>\n    </tr>\n    <tr>\n      <th>fruit</th>\n      <th>color</th>\n      <th></th>\n      <th></th>\n      <th></th>\n    </tr>\n  </thead>\n  <tbody>\n    <tr>\n      <th rowspan=\"2\" valign=\"top\">apple</th>\n      <th>red</th>\n      <td>1</td>\n      <td>4</td>\n      <td>7</td>\n    </tr>\n    <tr>\n      <th>green</th>\n      <td>2</td>\n      <td>5</td>\n      <td>8</td>\n    </tr>\n    <tr>\n      <th>lime</th>\n      <th>green</th>\n      <td>3</td>\n      <td>6</td>\n      <td>9</td>\n    </tr>\n  </tbody>\n</table>\n</div>"
     },
     "metadata": {}
    },
    {
     "output_type": "stream",
     "name": "stdout",
     "text": "df0.index:  MultiIndex([('apple',   'red'),\n            ('apple', 'green'),\n            ( 'lime', 'green')],\n           names=['fruit', 'color'])\n\n#####\ndf0: change a multi-index to flat,\nuse `df0.index.to_flat_index()`\n"
    },
    {
     "output_type": "display_data",
     "data": {
      "text/plain": "                col1  col2  col3\n(apple, red)       1     4     7\n(apple, green)     2     5     8\n(lime, green)      3     6     9",
      "text/html": "<div>\n<style scoped>\n    .dataframe tbody tr th:only-of-type {\n        vertical-align: middle;\n    }\n\n    .dataframe tbody tr th {\n        vertical-align: top;\n    }\n\n    .dataframe thead th {\n        text-align: right;\n    }\n</style>\n<table border=\"1\" class=\"dataframe\">\n  <thead>\n    <tr style=\"text-align: right;\">\n      <th></th>\n      <th>col1</th>\n      <th>col2</th>\n      <th>col3</th>\n    </tr>\n  </thead>\n  <tbody>\n    <tr>\n      <th>(apple, red)</th>\n      <td>1</td>\n      <td>4</td>\n      <td>7</td>\n    </tr>\n    <tr>\n      <th>(apple, green)</th>\n      <td>2</td>\n      <td>5</td>\n      <td>8</td>\n    </tr>\n    <tr>\n      <th>(lime, green)</th>\n      <td>3</td>\n      <td>6</td>\n      <td>9</td>\n    </tr>\n  </tbody>\n</table>\n</div>"
     },
     "metadata": {}
    },
    {
     "output_type": "stream",
     "name": "stdout",
     "text": "df0.index:  Index([('apple', 'red'), ('apple', 'green'), ('lime', 'green')], dtype='object')\n\n#####\ndf0: reset index,\nuse `df0.reset_index()`\n"
    },
    {
     "output_type": "display_data",
     "data": {
      "text/plain": "   col1  col2  col3\n0     1     4     7\n1     2     5     8\n2     3     6     9",
      "text/html": "<div>\n<style scoped>\n    .dataframe tbody tr th:only-of-type {\n        vertical-align: middle;\n    }\n\n    .dataframe tbody tr th {\n        vertical-align: top;\n    }\n\n    .dataframe thead th {\n        text-align: right;\n    }\n</style>\n<table border=\"1\" class=\"dataframe\">\n  <thead>\n    <tr style=\"text-align: right;\">\n      <th></th>\n      <th>col1</th>\n      <th>col2</th>\n      <th>col3</th>\n    </tr>\n  </thead>\n  <tbody>\n    <tr>\n      <th>0</th>\n      <td>1</td>\n      <td>4</td>\n      <td>7</td>\n    </tr>\n    <tr>\n      <th>1</th>\n      <td>2</td>\n      <td>5</td>\n      <td>8</td>\n    </tr>\n    <tr>\n      <th>2</th>\n      <td>3</td>\n      <td>6</td>\n      <td>9</td>\n    </tr>\n  </tbody>\n</table>\n</div>"
     },
     "metadata": {}
    }
   ],
   "source": [
    "import pandas as pd\n",
    "#####\n",
    "# create using columns\n",
    "df0 = pd.DataFrame(\n",
    "    {'col1': [1, 2, 3],\n",
    "     'col2': [4, 5, 6],\n",
    "     'col3': [7, 8, 9],\n",
    "    },\n",
    "    index = [1, 2, 3]      # otherwise index starts from 0\n",
    ")     \n",
    "print(\"\\n#####\\ndf0: create using column values\"\n",
    "      \"\\nuse `pd.DataFrame({})`\")\n",
    "display(df0)\n",
    "\n",
    "#####\n",
    "# create using rows\n",
    "df1 = pd.DataFrame(\n",
    "    [[1, 2, 3],\n",
    "     [4, 5, 6],\n",
    "     [7, 8, 9],\n",
    "    ],\n",
    "    index=[1, 2, 3],    # otherwise index starts from 0\n",
    "    columns=['col1', 'col12', 'col3']\n",
    ")\n",
    "print(\"\\n#####\\ndf1: create using row values\"\n",
    "      \"\\nuse `pd.DataFrame([])`\")\n",
    "display(df1)\n",
    "\n",
    "#####\n",
    "# create a multi-index dataframe\n",
    "df2 = pd.DataFrame(\n",
    "    {'col1': [1, 2, 3],\n",
    "     'col2': [4, 5, 6],\n",
    "     'col3': [7, 8, 9],\n",
    "    },\n",
    "    index = pd.MultiIndex.from_tuples(\n",
    "        [('apple', 'red'), ('apple', 'green'),\n",
    "         ('lime', 'green'),\n",
    "        ],\n",
    "        names=['fruit','color']\n",
    "    )\n",
    "    ## or\n",
    "    # index = pd.MultiIndex.from_arrays(\n",
    "    #     [['apple', 'apple', 'lime'],\n",
    "    #      ['red', 'green', 'green']\n",
    "    #     ],\n",
    "    #     names=['fruit','color']\n",
    "    # )\n",
    ")\n",
    "print(\"\\n#####\\ndf2: create a multi-index dataframe,\"\n",
    "      \"\\nuse `pd.MultiIndex()`\")\n",
    "display(df2)\n",
    "print(\"df2.index: \", df2.index)\n",
    "\n",
    "#####\n",
    "# reshape a flat dataframe to multi-index\n",
    "df0['fruit'] = ['apple', 'apple', 'lime']\n",
    "df0['color'] = ['red', 'green', 'green']\n",
    "# `inplace`: by default, `set_index()` returns a new df\n",
    "df0.set_index(['fruit', 'color'], inplace=True)\n",
    "print(\"\\n#####\\ndf0: change a flat to multi-index\"\n",
    "      \"\\nuse `df0.set_index()`\")\n",
    "display(df0)\n",
    "print(\"df0.index: \", df0.index)\n",
    "\n",
    "#####\n",
    "# reshape from multi-index to flat index, \n",
    "# `reset_index()` can be directly called here\n",
    "df0.set_index(df0.index.to_flat_index(), inplace=True)\n",
    "print(\"\\n#####\\ndf0: change a multi-index to flat,\"\n",
    "      \"\\nuse `df0.index.to_flat_index()`\")\n",
    "display(df0)\n",
    "print(\"df0.index: \", df0.index)\n",
    "\n",
    "#####\n",
    "# reset index\n",
    "# `drop`: by default, the old index is added as a column\n",
    "df0.reset_index(inplace=True, drop=True)\n",
    "print(\"\\n#####\\ndf0: reset index,\"\n",
    "      \"\\nuse `df0.reset_index()`\")\n",
    "display(df0)"
   ]
  },
  {
   "cell_type": "markdown",
   "metadata": {},
   "source": [
    "# Reshape Data\n",
    "## 1- Gather Columns into Rows\n",
    "### Melt - Unpivot from Wide to Long:\n",
    "- `pd.melt(df)`\n",
    "### Melt MultiIndex:\n",
    "- `pd.melt(df, col_level=None)`\n"
   ]
  },
  {
   "cell_type": "code",
   "execution_count": 2,
   "metadata": {},
   "outputs": [
    {
     "output_type": "stream",
     "name": "stdout",
     "text": "\n#####\ndf0: create using column values\n"
    },
    {
     "output_type": "display_data",
     "data": {
      "text/plain": "   year  london  manchester  glasgow\n0  2018       1           4        7\n1  2019       2           5        8\n2  2020       3           6        9",
      "text/html": "<div>\n<style scoped>\n    .dataframe tbody tr th:only-of-type {\n        vertical-align: middle;\n    }\n\n    .dataframe tbody tr th {\n        vertical-align: top;\n    }\n\n    .dataframe thead th {\n        text-align: right;\n    }\n</style>\n<table border=\"1\" class=\"dataframe\">\n  <thead>\n    <tr style=\"text-align: right;\">\n      <th></th>\n      <th>year</th>\n      <th>london</th>\n      <th>manchester</th>\n      <th>glasgow</th>\n    </tr>\n  </thead>\n  <tbody>\n    <tr>\n      <th>0</th>\n      <td>2018</td>\n      <td>1</td>\n      <td>4</td>\n      <td>7</td>\n    </tr>\n    <tr>\n      <th>1</th>\n      <td>2019</td>\n      <td>2</td>\n      <td>5</td>\n      <td>8</td>\n    </tr>\n    <tr>\n      <th>2</th>\n      <td>2020</td>\n      <td>3</td>\n      <td>6</td>\n      <td>9</td>\n    </tr>\n  </tbody>\n</table>\n</div>"
     },
     "metadata": {}
    },
    {
     "output_type": "stream",
     "name": "stdout",
     "text": "\n#####\ndf0: unpivot from wide to long,\nuse `pd.melt()`\n"
    },
    {
     "output_type": "display_data",
     "data": {
      "text/plain": "   year        city  rate\n0  2018      london     1\n1  2019      london     2\n2  2020      london     3\n3  2018  manchester     4\n4  2019  manchester     5\n5  2020  manchester     6\n6  2018     glasgow     7\n7  2019     glasgow     8\n8  2020     glasgow     9",
      "text/html": "<div>\n<style scoped>\n    .dataframe tbody tr th:only-of-type {\n        vertical-align: middle;\n    }\n\n    .dataframe tbody tr th {\n        vertical-align: top;\n    }\n\n    .dataframe thead th {\n        text-align: right;\n    }\n</style>\n<table border=\"1\" class=\"dataframe\">\n  <thead>\n    <tr style=\"text-align: right;\">\n      <th></th>\n      <th>year</th>\n      <th>city</th>\n      <th>rate</th>\n    </tr>\n  </thead>\n  <tbody>\n    <tr>\n      <th>0</th>\n      <td>2018</td>\n      <td>london</td>\n      <td>1</td>\n    </tr>\n    <tr>\n      <th>1</th>\n      <td>2019</td>\n      <td>london</td>\n      <td>2</td>\n    </tr>\n    <tr>\n      <th>2</th>\n      <td>2020</td>\n      <td>london</td>\n      <td>3</td>\n    </tr>\n    <tr>\n      <th>3</th>\n      <td>2018</td>\n      <td>manchester</td>\n      <td>4</td>\n    </tr>\n    <tr>\n      <th>4</th>\n      <td>2019</td>\n      <td>manchester</td>\n      <td>5</td>\n    </tr>\n    <tr>\n      <th>5</th>\n      <td>2020</td>\n      <td>manchester</td>\n      <td>6</td>\n    </tr>\n    <tr>\n      <th>6</th>\n      <td>2018</td>\n      <td>glasgow</td>\n      <td>7</td>\n    </tr>\n    <tr>\n      <th>7</th>\n      <td>2019</td>\n      <td>glasgow</td>\n      <td>8</td>\n    </tr>\n    <tr>\n      <th>8</th>\n      <td>2020</td>\n      <td>glasgow</td>\n      <td>9</td>\n    </tr>\n  </tbody>\n</table>\n</div>"
     },
     "metadata": {}
    },
    {
     "output_type": "stream",
     "name": "stdout",
     "text": "\n#####\ndf1: create a multi-level index and columns,\nuse `pd.MultiIndex.from_arrays()` and `df.columns`\n"
    },
    {
     "output_type": "display_data",
     "data": {
      "text/plain": "uk-ir            U                         I\ncountry        Eng                Sco    Ire\ncity        london manchester glasgow dublin\ndecade year                                 \n10s    2018      1          4       7     10\n       2019      2          5       8     11\n20s    2020      3          6       9     12",
      "text/html": "<div>\n<style scoped>\n    .dataframe tbody tr th:only-of-type {\n        vertical-align: middle;\n    }\n\n    .dataframe tbody tr th {\n        vertical-align: top;\n    }\n\n    .dataframe thead tr th {\n        text-align: left;\n    }\n\n    .dataframe thead tr:last-of-type th {\n        text-align: right;\n    }\n</style>\n<table border=\"1\" class=\"dataframe\">\n  <thead>\n    <tr>\n      <th></th>\n      <th>uk-ir</th>\n      <th colspan=\"3\" halign=\"left\">U</th>\n      <th>I</th>\n    </tr>\n    <tr>\n      <th></th>\n      <th>country</th>\n      <th colspan=\"2\" halign=\"left\">Eng</th>\n      <th>Sco</th>\n      <th>Ire</th>\n    </tr>\n    <tr>\n      <th></th>\n      <th>city</th>\n      <th>london</th>\n      <th>manchester</th>\n      <th>glasgow</th>\n      <th>dublin</th>\n    </tr>\n    <tr>\n      <th>decade</th>\n      <th>year</th>\n      <th></th>\n      <th></th>\n      <th></th>\n      <th></th>\n    </tr>\n  </thead>\n  <tbody>\n    <tr>\n      <th rowspan=\"2\" valign=\"top\">10s</th>\n      <th>2018</th>\n      <td>1</td>\n      <td>4</td>\n      <td>7</td>\n      <td>10</td>\n    </tr>\n    <tr>\n      <th>2019</th>\n      <td>2</td>\n      <td>5</td>\n      <td>8</td>\n      <td>11</td>\n    </tr>\n    <tr>\n      <th>20s</th>\n      <th>2020</th>\n      <td>3</td>\n      <td>6</td>\n      <td>9</td>\n      <td>12</td>\n    </tr>\n  </tbody>\n</table>\n</div>"
     },
     "metadata": {}
    },
    {
     "output_type": "stream",
     "name": "stdout",
     "text": "df1.columns:\n MultiIndex([('U', 'Eng',     'london'),\n            ('U', 'Eng', 'manchester'),\n            ('U', 'Sco',    'glasgow'),\n            ('I', 'Ire',     'dublin')],\n           names=['uk-ir', 'country', 'city'])\n\n#####\ndf2: unpivot a multi-index from wide to long\n\ndf2: insert index into a column,\nuse `reset_index(col_level=2)`\n"
    },
    {
     "output_type": "display_data",
     "data": {
      "text/plain": "uk-ir                     U                         I\ncountry                 Eng                Sco    Ire\ncity    decade  year london manchester glasgow dublin\n0          10s  2018      1          4       7     10\n1          10s  2019      2          5       8     11\n2          20s  2020      3          6       9     12",
      "text/html": "<div>\n<style scoped>\n    .dataframe tbody tr th:only-of-type {\n        vertical-align: middle;\n    }\n\n    .dataframe tbody tr th {\n        vertical-align: top;\n    }\n\n    .dataframe thead tr th {\n        text-align: left;\n    }\n</style>\n<table border=\"1\" class=\"dataframe\">\n  <thead>\n    <tr>\n      <th>uk-ir</th>\n      <th colspan=\"2\" halign=\"left\"></th>\n      <th colspan=\"3\" halign=\"left\">U</th>\n      <th>I</th>\n    </tr>\n    <tr>\n      <th>country</th>\n      <th colspan=\"2\" halign=\"left\"></th>\n      <th colspan=\"2\" halign=\"left\">Eng</th>\n      <th>Sco</th>\n      <th>Ire</th>\n    </tr>\n    <tr>\n      <th>city</th>\n      <th>decade</th>\n      <th>year</th>\n      <th>london</th>\n      <th>manchester</th>\n      <th>glasgow</th>\n      <th>dublin</th>\n    </tr>\n  </thead>\n  <tbody>\n    <tr>\n      <th>0</th>\n      <td>10s</td>\n      <td>2018</td>\n      <td>1</td>\n      <td>4</td>\n      <td>7</td>\n      <td>10</td>\n    </tr>\n    <tr>\n      <th>1</th>\n      <td>10s</td>\n      <td>2019</td>\n      <td>2</td>\n      <td>5</td>\n      <td>8</td>\n      <td>11</td>\n    </tr>\n    <tr>\n      <th>2</th>\n      <td>20s</td>\n      <td>2020</td>\n      <td>3</td>\n      <td>6</td>\n      <td>9</td>\n      <td>12</td>\n    </tr>\n  </tbody>\n</table>\n</div>"
     },
     "metadata": {}
    },
    {
     "output_type": "stream",
     "name": "stdout",
     "text": "df1.columns:\n MultiIndex([( '',    '',     'decade'),\n            ( '',    '',       'year'),\n            ('U', 'Eng',     'london'),\n            ('U', 'Eng', 'manchester'),\n            ('U', 'Sco',    'glasgow'),\n            ('I', 'Ire',     'dublin')],\n           names=['uk-ir', 'country', 'city'])\n\ndf2: melt to reshape to long\nuse `melt(col_level=2)`\n"
    },
    {
     "output_type": "display_data",
     "data": {
      "text/plain": "   decade  year  all_cities  rate\n0     10s  2018      london     1\n1     10s  2019      london     2\n2     20s  2020      london     3\n3     10s  2018  manchester     4\n4     10s  2019  manchester     5\n5     20s  2020  manchester     6\n6     10s  2018     glasgow     7\n7     10s  2019     glasgow     8\n8     20s  2020     glasgow     9\n9     10s  2018      dublin    10\n10    10s  2019      dublin    11\n11    20s  2020      dublin    12",
      "text/html": "<div>\n<style scoped>\n    .dataframe tbody tr th:only-of-type {\n        vertical-align: middle;\n    }\n\n    .dataframe tbody tr th {\n        vertical-align: top;\n    }\n\n    .dataframe thead th {\n        text-align: right;\n    }\n</style>\n<table border=\"1\" class=\"dataframe\">\n  <thead>\n    <tr style=\"text-align: right;\">\n      <th></th>\n      <th>decade</th>\n      <th>year</th>\n      <th>all_cities</th>\n      <th>rate</th>\n    </tr>\n  </thead>\n  <tbody>\n    <tr>\n      <th>0</th>\n      <td>10s</td>\n      <td>2018</td>\n      <td>london</td>\n      <td>1</td>\n    </tr>\n    <tr>\n      <th>1</th>\n      <td>10s</td>\n      <td>2019</td>\n      <td>london</td>\n      <td>2</td>\n    </tr>\n    <tr>\n      <th>2</th>\n      <td>20s</td>\n      <td>2020</td>\n      <td>london</td>\n      <td>3</td>\n    </tr>\n    <tr>\n      <th>3</th>\n      <td>10s</td>\n      <td>2018</td>\n      <td>manchester</td>\n      <td>4</td>\n    </tr>\n    <tr>\n      <th>4</th>\n      <td>10s</td>\n      <td>2019</td>\n      <td>manchester</td>\n      <td>5</td>\n    </tr>\n    <tr>\n      <th>5</th>\n      <td>20s</td>\n      <td>2020</td>\n      <td>manchester</td>\n      <td>6</td>\n    </tr>\n    <tr>\n      <th>6</th>\n      <td>10s</td>\n      <td>2018</td>\n      <td>glasgow</td>\n      <td>7</td>\n    </tr>\n    <tr>\n      <th>7</th>\n      <td>10s</td>\n      <td>2019</td>\n      <td>glasgow</td>\n      <td>8</td>\n    </tr>\n    <tr>\n      <th>8</th>\n      <td>20s</td>\n      <td>2020</td>\n      <td>glasgow</td>\n      <td>9</td>\n    </tr>\n    <tr>\n      <th>9</th>\n      <td>10s</td>\n      <td>2018</td>\n      <td>dublin</td>\n      <td>10</td>\n    </tr>\n    <tr>\n      <th>10</th>\n      <td>10s</td>\n      <td>2019</td>\n      <td>dublin</td>\n      <td>11</td>\n    </tr>\n    <tr>\n      <th>11</th>\n      <td>20s</td>\n      <td>2020</td>\n      <td>dublin</td>\n      <td>12</td>\n    </tr>\n  </tbody>\n</table>\n</div>"
     },
     "metadata": {}
    }
   ],
   "source": [
    "import pandas as pd\n",
    "#####\n",
    "# create a df \n",
    "df0 = pd.DataFrame(\n",
    "    {\n",
    "     'year':        [2018, 2019, 2020],\n",
    "     'london':      [1, 2, 3],\n",
    "     'manchester':  [4, 5, 6],\n",
    "     'glasgow':     [7, 8, 9],\n",
    "    }\n",
    ")\n",
    "print(\"\\n#####\\ndf0: create using column values\")\n",
    "display(df0)\n",
    "\n",
    "#####\n",
    "# unpivot a flat from wide to long\n",
    "df0 = pd.melt(\n",
    "    df0, \n",
    "    # column(s) to use as identifier variables\n",
    "    id_vars=['year'], \n",
    "    # column(s) to unpivot\n",
    "    # uncomment next line to unpivot using only those columns\n",
    "    #value_vars=['london', 'manchester'], \n",
    "    # name to use for the 'variable' column\n",
    "    var_name='city', \n",
    "    # name to use for the 'value' column\n",
    "    value_name='rate'\n",
    ")\n",
    "print(\"\\n#####\\ndf0: unpivot from wide to long,\"\n",
    "      \"\\nuse `pd.melt()`\")\n",
    "display(df0)\n",
    "\n",
    "#####\n",
    "# create a multi-index df\n",
    "df1 = pd.DataFrame(\n",
    "    {\n",
    "     'london':      [1, 2, 3],\n",
    "     'manchester':  [4, 5, 6],\n",
    "     'glasgow':     [7, 8, 9],\n",
    "     'dublin':      [10, 11, 12],\n",
    "    },\n",
    "    index = pd.MultiIndex.from_arrays(\n",
    "        [['10s', '10s', '20s'], \n",
    "         [2018, 2019, 2020]\n",
    "        ],\n",
    "        names= ['dec', 'year']\n",
    "    )\n",
    ")\n",
    "# optional: can simply change the names again\n",
    "df1.index.set_names(['decade', 'year'], inplace=True)\n",
    "df1.columns = [list('UUUI'), \n",
    "               ['Eng', 'Eng', 'Sco', 'Ire'], \n",
    "               df1.columns\n",
    "              ]\n",
    "df1.columns.names = ['uk-ir', 'country', 'city']\n",
    "print(\"\\n#####\\ndf1: create a multi-level index and columns,\"\n",
    "      \"\\nuse `pd.MultiIndex.from_arrays()` and `df.columns`\")\n",
    "display(df1)\n",
    "print(\"df1.columns:\\n\", df1.columns)\n",
    "\n",
    "#####\n",
    "# unpivot a multi-index from wide to long\n",
    "print(\"\\n#####\\ndf2: unpivot a multi-index from wide to long\")\n",
    "\n",
    "# optional: if you want only one column, flat the index\n",
    "#df1.set_index(df1.index.to_flat_index(), inplace=True)\n",
    "\n",
    "# convert index to a column to be used in the melt\n",
    "# col_level, int or str, If the columns have multiple levels, \n",
    "# determines which level the labels are inserted into \n",
    "df2 = df1.copy()\n",
    "df2.reset_index(col_level=2, inplace=True)\n",
    "print(\"\\ndf2: insert index into a column,\"\n",
    "      \"\\nuse `reset_index(col_level=2)`\")\n",
    "display(df2)\n",
    "print(\"df1.columns:\\n\", df2.columns)\n",
    "\n",
    "df2 = pd.melt(\n",
    "    df2, \n",
    "    id_vars= ['decade', 'year'], \n",
    "    # with col_level>0, specifying `value_vars` gives an error,\n",
    "    # see https://github.com/pandas-dev/pandas/issues/34129\n",
    "    #value_vars = ['london', 'manchester'],\n",
    "    var_name='all_cities', \n",
    "    value_name='rate',\n",
    "    # if columns are a MultiIndex then use this level to melt, \n",
    "    # int or str\n",
    "    col_level = 2\n",
    ")\n",
    "print(\"\\ndf2: melt to reshape to long\"\n",
    "      \"\\nuse `melt(col_level=2)`\")\n",
    "display(df2)"
   ]
  },
  {
   "cell_type": "markdown",
   "metadata": {},
   "source": [
    "## 2- Stack level(s) from columns to index\n",
    "### Stack:\n",
    "- `df.stack()`\n"
   ]
  },
  {
   "cell_type": "code",
   "execution_count": 3,
   "metadata": {},
   "outputs": [
    {
     "output_type": "stream",
     "name": "stdout",
     "text": "\n#####\ndf0: create using column values\n"
    },
    {
     "output_type": "display_data",
     "data": {
      "text/plain": "city      london  manchester  glasgow  dublin\ndec year                                     \n10s 2018       1           4        7      10\n    2019       2           5        8      11\n20s 2020       3           6        9      12",
      "text/html": "<div>\n<style scoped>\n    .dataframe tbody tr th:only-of-type {\n        vertical-align: middle;\n    }\n\n    .dataframe tbody tr th {\n        vertical-align: top;\n    }\n\n    .dataframe thead th {\n        text-align: right;\n    }\n</style>\n<table border=\"1\" class=\"dataframe\">\n  <thead>\n    <tr style=\"text-align: right;\">\n      <th></th>\n      <th>city</th>\n      <th>london</th>\n      <th>manchester</th>\n      <th>glasgow</th>\n      <th>dublin</th>\n    </tr>\n    <tr>\n      <th>dec</th>\n      <th>year</th>\n      <th></th>\n      <th></th>\n      <th></th>\n      <th></th>\n    </tr>\n  </thead>\n  <tbody>\n    <tr>\n      <th rowspan=\"2\" valign=\"top\">10s</th>\n      <th>2018</th>\n      <td>1</td>\n      <td>4</td>\n      <td>7</td>\n      <td>10</td>\n    </tr>\n    <tr>\n      <th>2019</th>\n      <td>2</td>\n      <td>5</td>\n      <td>8</td>\n      <td>11</td>\n    </tr>\n    <tr>\n      <th>20s</th>\n      <th>2020</th>\n      <td>3</td>\n      <td>6</td>\n      <td>9</td>\n      <td>12</td>\n    </tr>\n  </tbody>\n</table>\n</div>"
     },
     "metadata": {}
    },
    {
     "output_type": "stream",
     "name": "stdout",
     "text": "\ndf0: columns is flat with a name:\n Index(['london', 'manchester', 'glasgow', 'dublin'], dtype='object', name='city')\n\n#####\ns1: stack level(s) from columns to index\n"
    },
    {
     "output_type": "display_data",
     "data": {
      "text/plain": "dec  year  city      \n10s  2018  london         1\n           manchester     4\n           glasgow        7\n           dublin        10\n     2019  london         2\n           manchester     5\n           glasgow        8\n           dublin        11\n20s  2020  london         3\n           manchester     6\n           glasgow        9\n           dublin        12\ndtype: int64"
     },
     "metadata": {}
    },
    {
     "output_type": "stream",
     "name": "stdout",
     "text": "\ns1: stacking a flat column df returns a Series,\nthe rest is index. `type(s1)`: <class 'pandas.core.series.Series'>\n"
    }
   ],
   "source": [
    "import pandas as pd\n",
    "#####\n",
    "# create a df\n",
    "df0 = pd.DataFrame(\n",
    "    {\n",
    "     'london':      [1, 2, 3],\n",
    "     'manchester':  [4, 5, 6],\n",
    "     'glasgow':     [7, 8, 9],\n",
    "     'dublin':      [10, 11, 12],\n",
    "    },\n",
    "    index = pd.MultiIndex.from_arrays(\n",
    "        [['10s', '10s', '20s'], \n",
    "         [2018, 2019, 2020]\n",
    "        ],\n",
    "        names= ['dec', 'year']\n",
    "    )\n",
    ")\n",
    "df0.columns.names = ['city']\n",
    "print(\"\\n#####\\ndf0: create using column values\")\n",
    "display(df0)\n",
    "print(\"\\ndf0: columns is flat with a name:\\n\", df0.columns)\n",
    "\n",
    "#####\n",
    "# stack level(s) from columns to index.\n",
    "# `level`: level(s) to stack from the column onto the index axis\n",
    "s1 = df0.stack(level=0)    # default=-1 (last level)\n",
    "print(\"\\n#####\\ns1: stack level(s) from columns to index\")\n",
    "display(s1)\n",
    "print(\"\\ns1: stacking a flat column df returns a Series,\"\n",
    "      \"\\nthe rest is index. `type(s1)`:\", type(s1))"
   ]
  },
  {
   "cell_type": "markdown",
   "metadata": {},
   "source": [
    "## 3- Unstack level(s) from index to columns\n",
    "### Unstack:\n",
    "- `df.unstack()`\n"
   ]
  },
  {
   "cell_type": "code",
   "execution_count": 4,
   "metadata": {},
   "outputs": [
    {
     "output_type": "stream",
     "name": "stdout",
     "text": "\n#####\ndf0: create df\n"
    },
    {
     "output_type": "display_data",
     "data": {
      "text/plain": "          london  manchester\nh     q                     \nhalf1 q1       1           5\n      q2       2           6\nhalf2 q1       3           7\n      q2       4           8",
      "text/html": "<div>\n<style scoped>\n    .dataframe tbody tr th:only-of-type {\n        vertical-align: middle;\n    }\n\n    .dataframe tbody tr th {\n        vertical-align: top;\n    }\n\n    .dataframe thead th {\n        text-align: right;\n    }\n</style>\n<table border=\"1\" class=\"dataframe\">\n  <thead>\n    <tr style=\"text-align: right;\">\n      <th></th>\n      <th></th>\n      <th>london</th>\n      <th>manchester</th>\n    </tr>\n    <tr>\n      <th>h</th>\n      <th>q</th>\n      <th></th>\n      <th></th>\n    </tr>\n  </thead>\n  <tbody>\n    <tr>\n      <th rowspan=\"2\" valign=\"top\">half1</th>\n      <th>q1</th>\n      <td>1</td>\n      <td>5</td>\n    </tr>\n    <tr>\n      <th>q2</th>\n      <td>2</td>\n      <td>6</td>\n    </tr>\n    <tr>\n      <th rowspan=\"2\" valign=\"top\">half2</th>\n      <th>q1</th>\n      <td>3</td>\n      <td>7</td>\n    </tr>\n    <tr>\n      <th>q2</th>\n      <td>4</td>\n      <td>8</td>\n    </tr>\n  </tbody>\n</table>\n</div>"
     },
     "metadata": {}
    },
    {
     "output_type": "stream",
     "name": "stdout",
     "text": "\n#####\ndf1: unstack the last level of index to columns\nuse `unstack(level=-1)`\n"
    },
    {
     "output_type": "display_data",
     "data": {
      "text/plain": "      london    manchester   \nq         q1 q2         q1 q2\nh                            \nhalf1      1  2          5  6\nhalf2      3  4          7  8",
      "text/html": "<div>\n<style scoped>\n    .dataframe tbody tr th:only-of-type {\n        vertical-align: middle;\n    }\n\n    .dataframe tbody tr th {\n        vertical-align: top;\n    }\n\n    .dataframe thead tr th {\n        text-align: left;\n    }\n\n    .dataframe thead tr:last-of-type th {\n        text-align: right;\n    }\n</style>\n<table border=\"1\" class=\"dataframe\">\n  <thead>\n    <tr>\n      <th></th>\n      <th colspan=\"2\" halign=\"left\">london</th>\n      <th colspan=\"2\" halign=\"left\">manchester</th>\n    </tr>\n    <tr>\n      <th>q</th>\n      <th>q1</th>\n      <th>q2</th>\n      <th>q1</th>\n      <th>q2</th>\n    </tr>\n    <tr>\n      <th>h</th>\n      <th></th>\n      <th></th>\n      <th></th>\n      <th></th>\n    </tr>\n  </thead>\n  <tbody>\n    <tr>\n      <th>half1</th>\n      <td>1</td>\n      <td>2</td>\n      <td>5</td>\n      <td>6</td>\n    </tr>\n    <tr>\n      <th>half2</th>\n      <td>3</td>\n      <td>4</td>\n      <td>7</td>\n      <td>8</td>\n    </tr>\n  </tbody>\n</table>\n</div>"
     },
     "metadata": {}
    },
    {
     "output_type": "stream",
     "name": "stdout",
     "text": "\ndf2: unstack level 0 of index to columns\nuse `unstack(level=0)`\n"
    },
    {
     "output_type": "display_data",
     "data": {
      "text/plain": "   london       manchester      \nh   half1 half2      half1 half2\nq                               \nq1      1     3          5     7\nq2      2     4          6     8",
      "text/html": "<div>\n<style scoped>\n    .dataframe tbody tr th:only-of-type {\n        vertical-align: middle;\n    }\n\n    .dataframe tbody tr th {\n        vertical-align: top;\n    }\n\n    .dataframe thead tr th {\n        text-align: left;\n    }\n\n    .dataframe thead tr:last-of-type th {\n        text-align: right;\n    }\n</style>\n<table border=\"1\" class=\"dataframe\">\n  <thead>\n    <tr>\n      <th></th>\n      <th colspan=\"2\" halign=\"left\">london</th>\n      <th colspan=\"2\" halign=\"left\">manchester</th>\n    </tr>\n    <tr>\n      <th>h</th>\n      <th>half1</th>\n      <th>half2</th>\n      <th>half1</th>\n      <th>half2</th>\n    </tr>\n    <tr>\n      <th>q</th>\n      <th></th>\n      <th></th>\n      <th></th>\n      <th></th>\n    </tr>\n  </thead>\n  <tbody>\n    <tr>\n      <th>q1</th>\n      <td>1</td>\n      <td>3</td>\n      <td>5</td>\n      <td>7</td>\n    </tr>\n    <tr>\n      <th>q2</th>\n      <td>2</td>\n      <td>4</td>\n      <td>6</td>\n      <td>8</td>\n    </tr>\n  </tbody>\n</table>\n</div>"
     },
     "metadata": {}
    },
    {
     "output_type": "stream",
     "name": "stdout",
     "text": "\ns3: unstack df2 with a flat index\nsince df2's index is flat, the output will be a Series\n"
    },
    {
     "output_type": "display_data",
     "data": {
      "text/plain": "            h      q \nlondon      half1  q1    1\n                   q2    2\n            half2  q1    3\n                   q2    4\nmanchester  half1  q1    5\n                   q2    6\n            half2  q1    7\n                   q2    8\ndtype: int64"
     },
     "metadata": {}
    }
   ],
   "source": [
    "import pandas as pd\n",
    "#####\n",
    "# create a multi-index df\n",
    "df0 = pd.DataFrame(\n",
    "    {\n",
    "     'london':      [1, 2, 3, 4],\n",
    "     'manchester':  [5, 6, 7, 8],\n",
    "    },\n",
    "    index = pd.MultiIndex.from_arrays(\n",
    "        [['half1', 'half1', 'half2', 'half2'], \n",
    "         ['q1', 'q2', 'q1', 'q2']\n",
    "        ],\n",
    "        names= ['h', 'q']\n",
    "    )\n",
    ")\n",
    "print(\"\\n#####\\ndf0: create df\")\n",
    "display(df0)\n",
    "\n",
    "#####\n",
    "# unstack: pivot a level of index to columns\n",
    "df1 = df0.unstack(level=-1)\n",
    "print(\"\\n#####\\ndf1: unstack the last level of index to columns\"\n",
    "      \"\\nuse `unstack(level=-1)`\")\n",
    "display(df1)\n",
    "\n",
    "df2 = df0.unstack(level=0)\n",
    "print(\"\\ndf2: unstack level 0 of index to columns\"\n",
    "      \"\\nuse `unstack(level=0)`\")\n",
    "display(df2)\n",
    "\n",
    "s3 = df2.unstack(level=0)\n",
    "print(\"\\ns3: unstack df2 with a flat index\"\n",
    "      \"\\nsince df2's index is flat, the output will be a Series\")\n",
    "display(s3)"
   ]
  },
  {
   "cell_type": "markdown",
   "metadata": {},
   "source": [
    "## 4- Spread Rows into Columns\n",
    "### Pivot Long to Wide:\n",
    "- `df.pivot_table()`\n"
   ]
  },
  {
   "cell_type": "code",
   "execution_count": 5,
   "metadata": {},
   "outputs": [
    {
     "output_type": "stream",
     "name": "stdout",
     "text": "\n#####\ndf0: flat df\n"
    },
    {
     "output_type": "display_data",
     "data": {
      "text/plain": "   user   item brand  rate\n0  jack     tv  sony     2\n1  jack  radio   jvc     1\n2  mary  radio  sony     3\n3  mary     tv           4\n4  alan  radio  sony     5\n5  alan     tv  sony     6\n6  sara  radio  sony     7\n7  sara     tv   jvc     8",
      "text/html": "<div>\n<style scoped>\n    .dataframe tbody tr th:only-of-type {\n        vertical-align: middle;\n    }\n\n    .dataframe tbody tr th {\n        vertical-align: top;\n    }\n\n    .dataframe thead th {\n        text-align: right;\n    }\n</style>\n<table border=\"1\" class=\"dataframe\">\n  <thead>\n    <tr style=\"text-align: right;\">\n      <th></th>\n      <th>user</th>\n      <th>item</th>\n      <th>brand</th>\n      <th>rate</th>\n    </tr>\n  </thead>\n  <tbody>\n    <tr>\n      <th>0</th>\n      <td>jack</td>\n      <td>tv</td>\n      <td>sony</td>\n      <td>2</td>\n    </tr>\n    <tr>\n      <th>1</th>\n      <td>jack</td>\n      <td>radio</td>\n      <td>jvc</td>\n      <td>1</td>\n    </tr>\n    <tr>\n      <th>2</th>\n      <td>mary</td>\n      <td>radio</td>\n      <td>sony</td>\n      <td>3</td>\n    </tr>\n    <tr>\n      <th>3</th>\n      <td>mary</td>\n      <td>tv</td>\n      <td></td>\n      <td>4</td>\n    </tr>\n    <tr>\n      <th>4</th>\n      <td>alan</td>\n      <td>radio</td>\n      <td>sony</td>\n      <td>5</td>\n    </tr>\n    <tr>\n      <th>5</th>\n      <td>alan</td>\n      <td>tv</td>\n      <td>sony</td>\n      <td>6</td>\n    </tr>\n    <tr>\n      <th>6</th>\n      <td>sara</td>\n      <td>radio</td>\n      <td>sony</td>\n      <td>7</td>\n    </tr>\n    <tr>\n      <th>7</th>\n      <td>sara</td>\n      <td>tv</td>\n      <td>jvc</td>\n      <td>8</td>\n    </tr>\n  </tbody>\n</table>\n</div>"
     },
     "metadata": {}
    },
    {
     "output_type": "stream",
     "name": "stdout",
     "text": "\n#####\ndf1: reshape from long to wide, multi-column,\nuse `df0.pivot_table()`\n"
    },
    {
     "output_type": "display_data",
     "data": {
      "text/plain": "user  alan jack      mary      sara     \nbrand sony  jvc sony      sony  jvc sony\nitem                                    \nradio  5.0  1.0  NaN  NaN  3.0  NaN  7.0\ntv     6.0  NaN  2.0  4.0  NaN  8.0  NaN",
      "text/html": "<div>\n<style scoped>\n    .dataframe tbody tr th:only-of-type {\n        vertical-align: middle;\n    }\n\n    .dataframe tbody tr th {\n        vertical-align: top;\n    }\n\n    .dataframe thead tr th {\n        text-align: left;\n    }\n\n    .dataframe thead tr:last-of-type th {\n        text-align: right;\n    }\n</style>\n<table border=\"1\" class=\"dataframe\">\n  <thead>\n    <tr>\n      <th>user</th>\n      <th>alan</th>\n      <th colspan=\"2\" halign=\"left\">jack</th>\n      <th colspan=\"2\" halign=\"left\">mary</th>\n      <th colspan=\"2\" halign=\"left\">sara</th>\n    </tr>\n    <tr>\n      <th>brand</th>\n      <th>sony</th>\n      <th>jvc</th>\n      <th>sony</th>\n      <th></th>\n      <th>sony</th>\n      <th>jvc</th>\n      <th>sony</th>\n    </tr>\n    <tr>\n      <th>item</th>\n      <th></th>\n      <th></th>\n      <th></th>\n      <th></th>\n      <th></th>\n      <th></th>\n      <th></th>\n    </tr>\n  </thead>\n  <tbody>\n    <tr>\n      <th>radio</th>\n      <td>5.0</td>\n      <td>1.0</td>\n      <td>NaN</td>\n      <td>NaN</td>\n      <td>3.0</td>\n      <td>NaN</td>\n      <td>7.0</td>\n    </tr>\n    <tr>\n      <th>tv</th>\n      <td>6.0</td>\n      <td>NaN</td>\n      <td>2.0</td>\n      <td>4.0</td>\n      <td>NaN</td>\n      <td>8.0</td>\n      <td>NaN</td>\n    </tr>\n  </tbody>\n</table>\n</div>"
     },
     "metadata": {}
    },
    {
     "output_type": "stream",
     "name": "stdout",
     "text": "df1: index is flat:\n Index(['radio', 'tv'], dtype='object', name='item')\ndf1: columns is MultiIndex:\n MultiIndex([('alan', 'sony'),\n            ('jack',  'jvc'),\n            ('jack', 'sony'),\n            ('mary',     ''),\n            ('mary', 'sony'),\n            ('sara',  'jvc'),\n            ('sara', 'sony')],\n           names=['user', 'brand'])\n\n#####\ndf2: reshape,  multi-index,\nuse `df0.pivot_table()`\n"
    },
    {
     "output_type": "display_data",
     "data": {
      "text/plain": "brand            jvc  sony\nitem  user                \nradio alan  NaN  NaN   5.0\n      jack  NaN  1.0   NaN\n      mary  NaN  NaN   3.0\n      sara  NaN  NaN   7.0\ntv    alan  NaN  NaN   6.0\n      jack  NaN  NaN   2.0\n      mary  4.0  NaN   NaN\n      sara  NaN  8.0   NaN",
      "text/html": "<div>\n<style scoped>\n    .dataframe tbody tr th:only-of-type {\n        vertical-align: middle;\n    }\n\n    .dataframe tbody tr th {\n        vertical-align: top;\n    }\n\n    .dataframe thead th {\n        text-align: right;\n    }\n</style>\n<table border=\"1\" class=\"dataframe\">\n  <thead>\n    <tr style=\"text-align: right;\">\n      <th></th>\n      <th>brand</th>\n      <th></th>\n      <th>jvc</th>\n      <th>sony</th>\n    </tr>\n    <tr>\n      <th>item</th>\n      <th>user</th>\n      <th></th>\n      <th></th>\n      <th></th>\n    </tr>\n  </thead>\n  <tbody>\n    <tr>\n      <th rowspan=\"4\" valign=\"top\">radio</th>\n      <th>alan</th>\n      <td>NaN</td>\n      <td>NaN</td>\n      <td>5.0</td>\n    </tr>\n    <tr>\n      <th>jack</th>\n      <td>NaN</td>\n      <td>1.0</td>\n      <td>NaN</td>\n    </tr>\n    <tr>\n      <th>mary</th>\n      <td>NaN</td>\n      <td>NaN</td>\n      <td>3.0</td>\n    </tr>\n    <tr>\n      <th>sara</th>\n      <td>NaN</td>\n      <td>NaN</td>\n      <td>7.0</td>\n    </tr>\n    <tr>\n      <th rowspan=\"4\" valign=\"top\">tv</th>\n      <th>alan</th>\n      <td>NaN</td>\n      <td>NaN</td>\n      <td>6.0</td>\n    </tr>\n    <tr>\n      <th>jack</th>\n      <td>NaN</td>\n      <td>NaN</td>\n      <td>2.0</td>\n    </tr>\n    <tr>\n      <th>mary</th>\n      <td>4.0</td>\n      <td>NaN</td>\n      <td>NaN</td>\n    </tr>\n    <tr>\n      <th>sara</th>\n      <td>NaN</td>\n      <td>8.0</td>\n      <td>NaN</td>\n    </tr>\n  </tbody>\n</table>\n</div>"
     },
     "metadata": {}
    },
    {
     "output_type": "stream",
     "name": "stdout",
     "text": "df2: index is MultiIndex:\n MultiIndex([('radio', 'alan'),\n            ('radio', 'jack'),\n            ('radio', 'mary'),\n            ('radio', 'sara'),\n            (   'tv', 'alan'),\n            (   'tv', 'jack'),\n            (   'tv', 'mary'),\n            (   'tv', 'sara')],\n           names=['item', 'user'])\ndf2: columns is flat:\n Index(['', 'jvc', 'sony'], dtype='object', name='brand')\ndf2: values is ndarray:\n [[nan nan  5.]\n [nan  1. nan]\n [nan nan  3.]\n [nan nan  7.]\n [nan nan  6.]\n [nan nan  2.]\n [ 4. nan nan]\n [nan  8. nan]]\n\n#####\ndf3: reshape, multi-values,\nuse `df0.pivot_table(aggfunc={})`\n`numeric_item` results:3: radio+tv, 2:tv, 1:radio\n"
    },
    {
     "output_type": "display_data",
     "data": {
      "text/plain": "      numeric_item           rate          \nbrand               jvc sony       jvc sony\nuser                                       \nalan           NaN  NaN  3.0  NaN  NaN  5.5\njack           NaN  1.0  2.0  NaN  1.0  2.0\nmary           2.0  NaN  1.0  4.0  NaN  3.0\nsara           NaN  2.0  1.0  NaN  8.0  7.0",
      "text/html": "<div>\n<style scoped>\n    .dataframe tbody tr th:only-of-type {\n        vertical-align: middle;\n    }\n\n    .dataframe tbody tr th {\n        vertical-align: top;\n    }\n\n    .dataframe thead tr th {\n        text-align: left;\n    }\n\n    .dataframe thead tr:last-of-type th {\n        text-align: right;\n    }\n</style>\n<table border=\"1\" class=\"dataframe\">\n  <thead>\n    <tr>\n      <th></th>\n      <th colspan=\"3\" halign=\"left\">numeric_item</th>\n      <th colspan=\"3\" halign=\"left\">rate</th>\n    </tr>\n    <tr>\n      <th>brand</th>\n      <th></th>\n      <th>jvc</th>\n      <th>sony</th>\n      <th></th>\n      <th>jvc</th>\n      <th>sony</th>\n    </tr>\n    <tr>\n      <th>user</th>\n      <th></th>\n      <th></th>\n      <th></th>\n      <th></th>\n      <th></th>\n      <th></th>\n    </tr>\n  </thead>\n  <tbody>\n    <tr>\n      <th>alan</th>\n      <td>NaN</td>\n      <td>NaN</td>\n      <td>3.0</td>\n      <td>NaN</td>\n      <td>NaN</td>\n      <td>5.5</td>\n    </tr>\n    <tr>\n      <th>jack</th>\n      <td>NaN</td>\n      <td>1.0</td>\n      <td>2.0</td>\n      <td>NaN</td>\n      <td>1.0</td>\n      <td>2.0</td>\n    </tr>\n    <tr>\n      <th>mary</th>\n      <td>2.0</td>\n      <td>NaN</td>\n      <td>1.0</td>\n      <td>4.0</td>\n      <td>NaN</td>\n      <td>3.0</td>\n    </tr>\n    <tr>\n      <th>sara</th>\n      <td>NaN</td>\n      <td>2.0</td>\n      <td>1.0</td>\n      <td>NaN</td>\n      <td>8.0</td>\n      <td>7.0</td>\n    </tr>\n  </tbody>\n</table>\n</div>"
     },
     "metadata": {}
    },
    {
     "output_type": "stream",
     "name": "stdout",
     "text": "\n#####\ndf4: flat df with duplicate entries\n"
    },
    {
     "output_type": "display_data",
     "data": {
      "text/plain": "   user   item brand  rate\n0  jack     tv  sony   2.0\n1  jack  radio   jvc   1.0\n2  mary  radio  sony   3.0\n3  mary     tv         4.0\n4  alan  radio  sony   5.0\n5  alan     tv  sony   6.0\n6  sara  radio  sony   7.0\n7  sara     tv   jvc   8.0\n8  sara  radio  sony   NaN\n9  sara     tv   jvc   9.0",
      "text/html": "<div>\n<style scoped>\n    .dataframe tbody tr th:only-of-type {\n        vertical-align: middle;\n    }\n\n    .dataframe tbody tr th {\n        vertical-align: top;\n    }\n\n    .dataframe thead th {\n        text-align: right;\n    }\n</style>\n<table border=\"1\" class=\"dataframe\">\n  <thead>\n    <tr style=\"text-align: right;\">\n      <th></th>\n      <th>user</th>\n      <th>item</th>\n      <th>brand</th>\n      <th>rate</th>\n    </tr>\n  </thead>\n  <tbody>\n    <tr>\n      <th>0</th>\n      <td>jack</td>\n      <td>tv</td>\n      <td>sony</td>\n      <td>2.0</td>\n    </tr>\n    <tr>\n      <th>1</th>\n      <td>jack</td>\n      <td>radio</td>\n      <td>jvc</td>\n      <td>1.0</td>\n    </tr>\n    <tr>\n      <th>2</th>\n      <td>mary</td>\n      <td>radio</td>\n      <td>sony</td>\n      <td>3.0</td>\n    </tr>\n    <tr>\n      <th>3</th>\n      <td>mary</td>\n      <td>tv</td>\n      <td></td>\n      <td>4.0</td>\n    </tr>\n    <tr>\n      <th>4</th>\n      <td>alan</td>\n      <td>radio</td>\n      <td>sony</td>\n      <td>5.0</td>\n    </tr>\n    <tr>\n      <th>5</th>\n      <td>alan</td>\n      <td>tv</td>\n      <td>sony</td>\n      <td>6.0</td>\n    </tr>\n    <tr>\n      <th>6</th>\n      <td>sara</td>\n      <td>radio</td>\n      <td>sony</td>\n      <td>7.0</td>\n    </tr>\n    <tr>\n      <th>7</th>\n      <td>sara</td>\n      <td>tv</td>\n      <td>jvc</td>\n      <td>8.0</td>\n    </tr>\n    <tr>\n      <th>8</th>\n      <td>sara</td>\n      <td>radio</td>\n      <td>sony</td>\n      <td>NaN</td>\n    </tr>\n    <tr>\n      <th>9</th>\n      <td>sara</td>\n      <td>tv</td>\n      <td>jvc</td>\n      <td>9.0</td>\n    </tr>\n  </tbody>\n</table>\n</div>"
     },
     "metadata": {}
    },
    {
     "output_type": "stream",
     "name": "stdout",
     "text": "\n#####\ndf5: reshape df with duplicate entries, multi-index,\nuse `df4.pivot_table(aggfunc='sum')`\n"
    },
    {
     "output_type": "display_data",
     "data": {
      "text/plain": "brand             jvc  sony\nitem  user                 \nradio alan  NaN   NaN   5.0\n      jack  NaN   1.0   NaN\n      mary  NaN   NaN   3.0\n      sara  NaN   NaN   7.0\ntv    alan  NaN   NaN   6.0\n      jack  NaN   NaN   2.0\n      mary  4.0   NaN   NaN\n      sara  NaN  17.0   NaN",
      "text/html": "<div>\n<style scoped>\n    .dataframe tbody tr th:only-of-type {\n        vertical-align: middle;\n    }\n\n    .dataframe tbody tr th {\n        vertical-align: top;\n    }\n\n    .dataframe thead th {\n        text-align: right;\n    }\n</style>\n<table border=\"1\" class=\"dataframe\">\n  <thead>\n    <tr style=\"text-align: right;\">\n      <th></th>\n      <th>brand</th>\n      <th></th>\n      <th>jvc</th>\n      <th>sony</th>\n    </tr>\n    <tr>\n      <th>item</th>\n      <th>user</th>\n      <th></th>\n      <th></th>\n      <th></th>\n    </tr>\n  </thead>\n  <tbody>\n    <tr>\n      <th rowspan=\"4\" valign=\"top\">radio</th>\n      <th>alan</th>\n      <td>NaN</td>\n      <td>NaN</td>\n      <td>5.0</td>\n    </tr>\n    <tr>\n      <th>jack</th>\n      <td>NaN</td>\n      <td>1.0</td>\n      <td>NaN</td>\n    </tr>\n    <tr>\n      <th>mary</th>\n      <td>NaN</td>\n      <td>NaN</td>\n      <td>3.0</td>\n    </tr>\n    <tr>\n      <th>sara</th>\n      <td>NaN</td>\n      <td>NaN</td>\n      <td>7.0</td>\n    </tr>\n    <tr>\n      <th rowspan=\"4\" valign=\"top\">tv</th>\n      <th>alan</th>\n      <td>NaN</td>\n      <td>NaN</td>\n      <td>6.0</td>\n    </tr>\n    <tr>\n      <th>jack</th>\n      <td>NaN</td>\n      <td>NaN</td>\n      <td>2.0</td>\n    </tr>\n    <tr>\n      <th>mary</th>\n      <td>4.0</td>\n      <td>NaN</td>\n      <td>NaN</td>\n    </tr>\n    <tr>\n      <th>sara</th>\n      <td>NaN</td>\n      <td>17.0</td>\n      <td>NaN</td>\n    </tr>\n  </tbody>\n</table>\n</div>"
     },
     "metadata": {}
    },
    {
     "output_type": "stream",
     "name": "stdout",
     "text": "\ndf5: flatten the index\nuse `df.index.to_flat_index()`\n"
    },
    {
     "output_type": "display_data",
     "data": {
      "text/plain": "brand                jvc  sony\n(radio, alan)  NaN   NaN   5.0\n(radio, jack)  NaN   1.0   NaN\n(radio, mary)  NaN   NaN   3.0\n(radio, sara)  NaN   NaN   7.0\n(tv, alan)     NaN   NaN   6.0\n(tv, jack)     NaN   NaN   2.0\n(tv, mary)     4.0   NaN   NaN\n(tv, sara)     NaN  17.0   NaN",
      "text/html": "<div>\n<style scoped>\n    .dataframe tbody tr th:only-of-type {\n        vertical-align: middle;\n    }\n\n    .dataframe tbody tr th {\n        vertical-align: top;\n    }\n\n    .dataframe thead th {\n        text-align: right;\n    }\n</style>\n<table border=\"1\" class=\"dataframe\">\n  <thead>\n    <tr style=\"text-align: right;\">\n      <th>brand</th>\n      <th></th>\n      <th>jvc</th>\n      <th>sony</th>\n    </tr>\n  </thead>\n  <tbody>\n    <tr>\n      <th>(radio, alan)</th>\n      <td>NaN</td>\n      <td>NaN</td>\n      <td>5.0</td>\n    </tr>\n    <tr>\n      <th>(radio, jack)</th>\n      <td>NaN</td>\n      <td>1.0</td>\n      <td>NaN</td>\n    </tr>\n    <tr>\n      <th>(radio, mary)</th>\n      <td>NaN</td>\n      <td>NaN</td>\n      <td>3.0</td>\n    </tr>\n    <tr>\n      <th>(radio, sara)</th>\n      <td>NaN</td>\n      <td>NaN</td>\n      <td>7.0</td>\n    </tr>\n    <tr>\n      <th>(tv, alan)</th>\n      <td>NaN</td>\n      <td>NaN</td>\n      <td>6.0</td>\n    </tr>\n    <tr>\n      <th>(tv, jack)</th>\n      <td>NaN</td>\n      <td>NaN</td>\n      <td>2.0</td>\n    </tr>\n    <tr>\n      <th>(tv, mary)</th>\n      <td>4.0</td>\n      <td>NaN</td>\n      <td>NaN</td>\n    </tr>\n    <tr>\n      <th>(tv, sara)</th>\n      <td>NaN</td>\n      <td>17.0</td>\n      <td>NaN</td>\n    </tr>\n  </tbody>\n</table>\n</div>"
     },
     "metadata": {}
    }
   ],
   "source": [
    "import pandas as pd\n",
    "#####\n",
    "# create a df \n",
    "df0 = pd.DataFrame(\n",
    "    [['jack', 'tv', 'sony', 2], ['jack', 'radio', 'jvc', 1],\n",
    "     ['mary', 'radio', 'sony', 3], ['mary', 'tv', '', 4],\n",
    "     ['alan', 'radio', 'sony', 5], ['alan', 'tv', 'sony', 6],\n",
    "     ['sara', 'radio', 'sony', 7], ['sara', 'tv', 'jvc', 8],\n",
    "    ],\n",
    "    columns = ('user', 'item', 'brand', 'rate'))\n",
    "print(\"\\n#####\\ndf0: flat df\")\n",
    "display(df0)\n",
    "\n",
    "#####\n",
    "# reshape df from long to wide, `pivot_table()`, multi-column\n",
    "df1 = df0.pivot_table(\n",
    "    index='item', \n",
    "    columns=['user', 'brand'], \n",
    "    values='rate',\n",
    "    #aggfunc = 'mean',       # default='mean'\n",
    ")\n",
    "print(\"\\n#####\\ndf1: reshape from long to wide, multi-column,\"\n",
    "      \"\\nuse `df0.pivot_table()`\")\n",
    "display(df1)\n",
    "print(\"df1: index is flat:\\n\", df1.index)\n",
    "print(\"df1: columns is MultiIndex:\\n\", df1.columns)\n",
    "\n",
    "\n",
    "#####\n",
    "# reshape df `pivot_table()`, multi-index\n",
    "df2 = df0.pivot_table(\n",
    "    index=['item', 'user'],\n",
    "    columns=['brand'], \n",
    "    values='rate',\n",
    "    #aggfunc = 'mean',       # default='mean'\n",
    ")\n",
    "print(\"\\n#####\\ndf2: reshape,  multi-index,\"\n",
    "      \"\\nuse `df0.pivot_table()`\")\n",
    "display(df2)\n",
    "print(\"df2: index is MultiIndex:\\n\", df2.index)\n",
    "print(\"df2: columns is flat:\\n\", df2.columns)\n",
    "print(\"df2: values is ndarray:\\n\", df2.values)\n",
    "\n",
    "####\n",
    "# reshape df `pivot_table()`, multi-values\n",
    "# numeric_item is like this: 'radio': 1, 'tv': 2\n",
    "df0['numeric_item'] = df0['item'].astype('category').cat.codes + 1\n",
    "df3 = df0.pivot_table(\n",
    "    values=('rate', 'numeric_item'),\n",
    "    columns=['brand'], \n",
    "    index='user',\n",
    "    # per `values` element aggfunc\n",
    "    aggfunc={'rate':'mean', 'numeric_item':'sum'},\n",
    ")\n",
    "print(\"\\n#####\\ndf3: reshape, multi-values,\"\n",
    "      \"\\nuse `df0.pivot_table(aggfunc={})`\"\n",
    "      \"\\n`numeric_item` results:3: radio+tv, 2:tv, 1:radio\")\n",
    "display(df3)\n",
    "\n",
    "#####\n",
    "# create a df with with duplicate entries\n",
    "df4 = pd.DataFrame(\n",
    "    [['jack', 'tv', 'sony', 2], ['jack', 'radio', 'jvc', 1],\n",
    "     ['mary', 'radio', 'sony', 3], ['mary', 'tv', '', 4],\n",
    "     ['alan', 'radio', 'sony', 5], ['alan', 'tv', 'sony', 6],\n",
    "     ['sara', 'radio', 'sony', 7], ['sara', 'tv', 'jvc', 8],\n",
    "     ['sara', 'radio', 'sony', float('nan')], ['sara', 'tv', 'jvc', 9],\n",
    "    ],\n",
    "    columns = ('user', 'item', 'brand', 'rate'))\n",
    "print(\"\\n#####\\ndf4: flat df with duplicate entries\")\n",
    "display(df4)\n",
    "\n",
    "#####\n",
    "# reshape df `pivot_table()`, multi-index, aggfunc\n",
    "df5 = df4.pivot_table(\n",
    "    index=['item', 'user'],\n",
    "    columns=['brand'], \n",
    "    values='rate',\n",
    "    # pd takes care of NaNs when aggregating\n",
    "    aggfunc = 'sum',       # default='mean'\n",
    ")\n",
    "print(\"\\n#####\\ndf5: reshape df with duplicate entries, multi-index,\"\n",
    "      \"\\nuse `df4.pivot_table(aggfunc='sum')`\")\n",
    "display(df5)\n",
    "\n",
    "# flatten the index\n",
    "df5.set_index(df5.index.to_flat_index(), inplace=True)\n",
    "print(\"\\ndf5: flatten the index\"\n",
    "      \"\\nuse `df.index.to_flat_index()`\")\n",
    "display(df5)"
   ]
  },
  {
   "cell_type": "markdown",
   "metadata": {},
   "source": [
    "## 5- Concat DataFrames\n",
    "### Appennd rows of DataFrames:\n",
    "- `pd.concat([df1,df2])`\n",
    "### Append columns of DataFrames:\n",
    "- `pd.concat([df1,df2], axis=1)`\n"
   ]
  },
  {
   "cell_type": "code",
   "execution_count": 6,
   "metadata": {},
   "outputs": [
    {
     "output_type": "stream",
     "name": "stdout",
     "text": "\n#####\ndf0: 2x2\n"
    },
    {
     "output_type": "display_data",
     "data": {
      "text/plain": "  letter  number\n0      a       1\n1      b       2",
      "text/html": "<div>\n<style scoped>\n    .dataframe tbody tr th:only-of-type {\n        vertical-align: middle;\n    }\n\n    .dataframe tbody tr th {\n        vertical-align: top;\n    }\n\n    .dataframe thead th {\n        text-align: right;\n    }\n</style>\n<table border=\"1\" class=\"dataframe\">\n  <thead>\n    <tr style=\"text-align: right;\">\n      <th></th>\n      <th>letter</th>\n      <th>number</th>\n    </tr>\n  </thead>\n  <tbody>\n    <tr>\n      <th>0</th>\n      <td>a</td>\n      <td>1</td>\n    </tr>\n    <tr>\n      <th>1</th>\n      <td>b</td>\n      <td>2</td>\n    </tr>\n  </tbody>\n</table>\n</div>"
     },
     "metadata": {}
    },
    {
     "output_type": "stream",
     "name": "stdout",
     "text": "\ndf1: 2x3\n"
    },
    {
     "output_type": "display_data",
     "data": {
      "text/plain": "  letter  number animal\n0      c       3    cat\n1      d       4    dog",
      "text/html": "<div>\n<style scoped>\n    .dataframe tbody tr th:only-of-type {\n        vertical-align: middle;\n    }\n\n    .dataframe tbody tr th {\n        vertical-align: top;\n    }\n\n    .dataframe thead th {\n        text-align: right;\n    }\n</style>\n<table border=\"1\" class=\"dataframe\">\n  <thead>\n    <tr style=\"text-align: right;\">\n      <th></th>\n      <th>letter</th>\n      <th>number</th>\n      <th>animal</th>\n    </tr>\n  </thead>\n  <tbody>\n    <tr>\n      <th>0</th>\n      <td>c</td>\n      <td>3</td>\n      <td>cat</td>\n    </tr>\n    <tr>\n      <th>1</th>\n      <td>d</td>\n      <td>4</td>\n      <td>dog</td>\n    </tr>\n  </tbody>\n</table>\n</div>"
     },
     "metadata": {}
    },
    {
     "output_type": "stream",
     "name": "stdout",
     "text": "\ndf2: 3x3\n"
    },
    {
     "output_type": "display_data",
     "data": {
      "text/plain": "  str  num animal\n0   e    5    cat\n1   f    6    dog\n2   g    7    cat",
      "text/html": "<div>\n<style scoped>\n    .dataframe tbody tr th:only-of-type {\n        vertical-align: middle;\n    }\n\n    .dataframe tbody tr th {\n        vertical-align: top;\n    }\n\n    .dataframe thead th {\n        text-align: right;\n    }\n</style>\n<table border=\"1\" class=\"dataframe\">\n  <thead>\n    <tr style=\"text-align: right;\">\n      <th></th>\n      <th>str</th>\n      <th>num</th>\n      <th>animal</th>\n    </tr>\n  </thead>\n  <tbody>\n    <tr>\n      <th>0</th>\n      <td>e</td>\n      <td>5</td>\n      <td>cat</td>\n    </tr>\n    <tr>\n      <th>1</th>\n      <td>f</td>\n      <td>6</td>\n      <td>dog</td>\n    </tr>\n    <tr>\n      <th>2</th>\n      <td>g</td>\n      <td>7</td>\n      <td>cat</td>\n    </tr>\n  </tbody>\n</table>\n</div>"
     },
     "metadata": {}
    },
    {
     "output_type": "stream",
     "name": "stdout",
     "text": "\n#####\ndf3: df0-df1 row-wise concat: 4x3,\nuse `pd.concat([df0,df1], axis=0)`\n"
    },
    {
     "output_type": "display_data",
     "data": {
      "text/plain": "  letter  number animal\n0      a       1    NaN\n1      b       2    NaN\n0      c       3    cat\n1      d       4    dog",
      "text/html": "<div>\n<style scoped>\n    .dataframe tbody tr th:only-of-type {\n        vertical-align: middle;\n    }\n\n    .dataframe tbody tr th {\n        vertical-align: top;\n    }\n\n    .dataframe thead th {\n        text-align: right;\n    }\n</style>\n<table border=\"1\" class=\"dataframe\">\n  <thead>\n    <tr style=\"text-align: right;\">\n      <th></th>\n      <th>letter</th>\n      <th>number</th>\n      <th>animal</th>\n    </tr>\n  </thead>\n  <tbody>\n    <tr>\n      <th>0</th>\n      <td>a</td>\n      <td>1</td>\n      <td>NaN</td>\n    </tr>\n    <tr>\n      <th>1</th>\n      <td>b</td>\n      <td>2</td>\n      <td>NaN</td>\n    </tr>\n    <tr>\n      <th>0</th>\n      <td>c</td>\n      <td>3</td>\n      <td>cat</td>\n    </tr>\n    <tr>\n      <th>1</th>\n      <td>d</td>\n      <td>4</td>\n      <td>dog</td>\n    </tr>\n  </tbody>\n</table>\n</div>"
     },
     "metadata": {}
    },
    {
     "output_type": "display_data",
     "data": {
      "text/plain": "letter    object\nnumber     int64\ndtype: object"
     },
     "metadata": {}
    },
    {
     "output_type": "stream",
     "name": "stdout",
     "text": "\ndf4: df0-df2 column-wise concat: 3x5,\nuse `pd.concat([df0,df2], axis=1)`,\n"
    },
    {
     "output_type": "display_data",
     "data": {
      "text/plain": "  letter  number str  num animal\n0      a     1.0   e    5    cat\n1      b     2.0   f    6    dog\n2    NaN     NaN   g    7    cat",
      "text/html": "<div>\n<style scoped>\n    .dataframe tbody tr th:only-of-type {\n        vertical-align: middle;\n    }\n\n    .dataframe tbody tr th {\n        vertical-align: top;\n    }\n\n    .dataframe thead th {\n        text-align: right;\n    }\n</style>\n<table border=\"1\" class=\"dataframe\">\n  <thead>\n    <tr style=\"text-align: right;\">\n      <th></th>\n      <th>letter</th>\n      <th>number</th>\n      <th>str</th>\n      <th>num</th>\n      <th>animal</th>\n    </tr>\n  </thead>\n  <tbody>\n    <tr>\n      <th>0</th>\n      <td>a</td>\n      <td>1.0</td>\n      <td>e</td>\n      <td>5</td>\n      <td>cat</td>\n    </tr>\n    <tr>\n      <th>1</th>\n      <td>b</td>\n      <td>2.0</td>\n      <td>f</td>\n      <td>6</td>\n      <td>dog</td>\n    </tr>\n    <tr>\n      <th>2</th>\n      <td>NaN</td>\n      <td>NaN</td>\n      <td>g</td>\n      <td>7</td>\n      <td>cat</td>\n    </tr>\n  </tbody>\n</table>\n</div>"
     },
     "metadata": {}
    },
    {
     "output_type": "stream",
     "name": "stdout",
     "text": "\ndf4: Note that 'number' column changes\nfrom int64 to float64, because of NaN\n"
    },
    {
     "output_type": "display_data",
     "data": {
      "text/plain": "letter     object\nnumber    float64\nstr        object\nnum         int64\nanimal     object\ndtype: object"
     },
     "metadata": {}
    }
   ],
   "source": [
    "import pandas as pd\n",
    "#####\n",
    "# create two dfs\n",
    "df0 = pd.DataFrame([['a', 1], ['b', 2]],\n",
    "                   columns=['letter', 'number'])\n",
    "print(\"\\n#####\\ndf0: 2x2\")\n",
    "display(df0)\n",
    "\n",
    "df1 = pd.DataFrame([['c', 3, 'cat'], ['d', 4, 'dog']],\n",
    "                   columns=['letter', 'number', 'animal'])\n",
    "print(\"\\ndf1: 2x3\")\n",
    "display(df1)\n",
    "\n",
    "df2 = pd.DataFrame([['e', 5, 'cat'], ['f', 6, 'dog'], ['g', 7, 'cat']],\n",
    "                   columns=['str', 'num', 'animal'])\n",
    "print(\"\\ndf2: 3x3\")\n",
    "display(df2)\n",
    "\n",
    "#####\n",
    "# concat\n",
    "df3 = pd.concat([df0,df1], axis=0)      # default: axis=0\n",
    "print(\"\\n#####\\ndf3: df0-df1 row-wise concat: 4x3,\"\n",
    "      \"\\nuse `pd.concat([df0,df1], axis=0)`\")\n",
    "display(df3)\n",
    "display(df0.dtypes)\n",
    "\n",
    "df4 = pd.concat([df0,df2], axis=1)\n",
    "print(\"\\ndf4: df0-df2 column-wise concat: 3x5,\"\n",
    "      \"\\nuse `pd.concat([df0,df2], axis=1)`,\")\n",
    "display(df4)\n",
    "print(\"\\ndf4: Note that 'number' column changes\"\n",
    "      \"\\nfrom int64 to float64, because of NaN\")\n",
    "display(df4.dtypes)"
   ]
  }
 ],
 "metadata": {
  "language_info": {
   "codemirror_mode": {
    "name": "ipython",
    "version": 3
   },
   "file_extension": ".py",
   "mimetype": "text/x-python",
   "name": "python",
   "nbconvert_exporter": "python",
   "pygments_lexer": "ipython3",
   "version": "3.8.0-final"
  },
  "orig_nbformat": 2,
  "kernelspec": {
   "name": "python38064bitvenvvenve634f7203ed34c19a5791c9f9fe624ae",
   "display_name": "Python 3.8.0 64-bit ('venv': venv)"
  }
 },
 "nbformat": 4,
 "nbformat_minor": 2
}